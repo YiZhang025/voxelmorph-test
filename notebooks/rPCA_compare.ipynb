{
 "cells": [
  {
   "cell_type": "markdown",
   "metadata": {},
   "source": [
    "# rPCA + Group Registration"
   ]
  },
  {
   "cell_type": "code",
   "execution_count": 13,
   "metadata": {},
   "outputs": [],
   "source": [
    "import glob\n",
    "import logging\n",
    "import multiprocessing\n",
    "import os\n",
    "import time\n",
    "from pathlib import Path\n",
    "\n",
    "import hydra\n",
    "import pandas as pd\n",
    "import scipy.io\n",
    "from omegaconf import DictConfig, OmegaConf\n",
    "from tqdm import tqdm\n",
    "\n",
    "os.environ['VXM_BACKEND'] = 'pytorch'\n",
    "import voxelmorph_group as vxm  # nopep8"
   ]
  },
  {
   "cell_type": "markdown",
   "metadata": {},
   "source": [
    "## Weight=0.3, rank=10, 5, 5"
   ]
  },
  {
   "cell_type": "code",
   "execution_count": 14,
   "metadata": {},
   "outputs": [],
   "source": [
    "def main(path, weight=0.3, rank1=10):\n",
    "    cfg = OmegaConf.load(path)\n",
    "    \n",
    "    cfg['weight'] = weight\n",
    "    cfg.rpca_rank.rank1 = rank1\n",
    "    conf = OmegaConf.structured(OmegaConf.to_container(cfg, resolve=True))   \n",
    "    return conf\n",
    "\n",
    "conf = main('../conf/config.yaml', weight=0.3, rank1=10)\n",
    "\n",
    "conf.round = 3\n",
    "conf.moved = os.path.join(conf.inference, f\"round{conf.round}\", 'moved')"
   ]
  },
  {
   "cell_type": "code",
   "execution_count": null,
   "metadata": {},
   "outputs": [],
   "source": [
    "col = ['Cases', 'raw MSE', 'registered MSE', 'raw PCA',\n",
    "       'registered PCA', 'raw T1err', 'registered T1err']\n",
    "df = pd.DataFrame(columns=col)\n",
    "\n",
    "# load the TI for all subjects\n",
    "if conf.TI_json:\n",
    "    import json\n",
    "    with open(f\"{conf.TI_json}\") as json_file:\n",
    "        TI_dict = json.load(json_file)\n",
    "\n",
    "device = 'cpu'\n",
    "\n",
    "train_files = os.listdir(conf.moving)\n",
    "\n",
    "add_feat_axis = not conf.multichannel\n",
    "for idx, subject in enumerate(train_files):\n",
    "    name = Path(subject).stem\n",
    "    start = time.time()\n",
    "    raw_vols, fixed_affine = vxm.py.utils.load_volfile(os.path.join(conf.moving, name), add_feat_axis=add_feat_axis, ret_affine=True)\n",
    "    rig_vols, fixed_affine = vxm.py.utils.load_volfile(os.path.join(conf.moved, name), add_feat_axis=add_feat_axis, ret_affine=True)\n",
    "    orig_T1err = vxm.groupwise.utils.update_atlas(raw_vols, -1, 't1map', tvec=tvec)\n",
    "    rigs_T1err = vxm.groupwise.utils.update_atlas(rig_vols, -1, 't1map', tvec=tvec)\n",
    "    et = time.time()\n",
    "    mean_orig_T1err = np.mean(orig_T1err)\n",
    "    mean_rigs_T1err = np.mean(rigs_T1err)\n",
    "    print(f\"{name}, Time elapsed: {(et - start)/60} mins, T1 error orig {mean_orig_T1err} and rigs {mean_rigs_T1err}\")\n",
    "    \n",
    "    \n",
    "df['MSE changes percentage'] = percentage_change(\n",
    "    df['raw MSE'], df['registered MSE'])\n",
    "df['PCA changes percentage'] = percentage_change(\n",
    "    df['raw PCA'], df['registered PCA'])\n",
    "df['T1err changes percentage'] = percentage_change(\n",
    "    df['raw T1err'], df['registered T1err'])\n",
    "df.to_csv(os.path.join(conf.result, 'results.csv'), index=False)\n",
    "hydralog.info(f\"The summary is \\n {df.describe()}\")\n",
    "\n",
    "logger.log_dataframe(df, 'Results', path=os.path.join(\n",
    "    conf.result, 'results.csv'))"
   ]
  }
 ],
 "metadata": {
  "kernelspec": {
   "display_name": "Python [conda env:voxelmorph]",
   "language": "python",
   "name": "conda-env-voxelmorph-py"
  },
  "language_info": {
   "codemirror_mode": {
    "name": "ipython",
    "version": 3
   },
   "file_extension": ".py",
   "mimetype": "text/x-python",
   "name": "python",
   "nbconvert_exporter": "python",
   "pygments_lexer": "ipython3",
   "version": "3.10.8"
  },
  "vscode": {
   "interpreter": {
    "hash": "0a1cd2b23f8ff06b7afb03302d9352d9e4f8beda4281272f70ede951c0d66b58"
   }
  }
 },
 "nbformat": 4,
 "nbformat_minor": 4
}
