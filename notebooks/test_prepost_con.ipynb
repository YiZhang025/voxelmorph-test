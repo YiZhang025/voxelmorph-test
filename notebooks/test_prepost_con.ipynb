{
 "cells": [
  {
   "cell_type": "markdown",
   "metadata": {},
   "source": [
    "## Load the data"
   ]
  },
  {
   "cell_type": "code",
   "execution_count": 1,
   "metadata": {},
   "outputs": [],
   "source": [
    "import os\n",
    "import glob\n",
    "import SimpleITK as sitk\n",
    "import numpy as np\n",
    "import pydicom\n",
    "import matplotlib.pyplot as plt\n",
    "# %matplotlib widget\n",
    "import nibabel as nib\n",
    "import torch\n",
    "from skimage import exposure\n",
    "import seaborn as sns\n",
    "from sewar.full_ref import mse\n",
    "os.environ['VXM_BACKEND'] = 'pytorch'\n",
    "import voxelmorph as vxm   # nopep8\n",
    "\n",
    "from scripts.torch.utils import *\n",
    "from scipy import ndimage\n",
    "from skimage.morphology import area_closing, binary_dilation\n",
    "from skimage.exposure import match_histograms\n"
   ]
  },
  {
   "cell_type": "code",
   "execution_count": 2,
   "metadata": {},
   "outputs": [],
   "source": [
    "def minmax(img):\n",
    "    img = (img - np.min(img)) / (np.max(img) - np.min(img))\n",
    "    return img\n",
    "\n",
    "def preprocess(array, new_shape, range=10):\n",
    "    temp = resize_img(sitk.GetImageFromArray(array), new_shape, sitk.sitkLinear)\n",
    "    min, max = float(sitk.GetArrayFromImage(temp).min()), float(sitk.GetArrayFromImage(temp).max())\n",
    "    # print(f\"Pixel range {min, max}\")\n",
    "    temp = sitk.Threshold(temp, lower=min+range, upper=max, outsideValue=0)\n",
    "    return minmax(sitk.GetArrayFromImage(temp)) \n",
    "    # return sitk.GetArrayFromImage(temp)\n",
    "\n",
    "def seg(img, new_shape):\n",
    "    img = (img*255).astype(np.uint8)\n",
    "    cnt = sorted(cv2.findContours(img, cv2.RETR_LIST, cv2.CHAIN_APPROX_SIMPLE)[-2], key=cv2.contourArea)[-1]\n",
    "    mask = np.zeros(new_shape, np.uint8)\n",
    "    masked = cv2.drawContours(mask, [cnt],-1, 255, -1)\n",
    "    return masked"
   ]
  },
  {
   "cell_type": "code",
   "execution_count": 3,
   "metadata": {},
   "outputs": [],
   "source": [
    "from sklearn.preprocessing import normalize"
   ]
  },
  {
   "cell_type": "code",
   "execution_count": 4,
   "metadata": {},
   "outputs": [
    {
     "data": {
      "text/plain": [
       "(192, 192, 48)"
      ]
     },
     "execution_count": 4,
     "metadata": {},
     "output_type": "execute_result"
    }
   ],
   "source": [
    "test_folder = '../data/PostconT1w_dataset/test'\n",
    "test_files = glob.glob(os.path.join(test_folder, '*.npy'))\n",
    "vols_all = []\n",
    "for file in test_files:\n",
    "    vols, fixed_affine = vxm.py.utils.load_volfile(file, add_batch_axis=True, add_feat_axis=True, ret_affine=True)\n",
    "    vols_all.append(np.squeeze(vols).transpose(1, 2, 0))\n",
    "vols_all = np.dstack(vols_all)\n",
    "vols_all.shape"
   ]
  },
  {
   "cell_type": "markdown",
   "metadata": {},
   "source": [
    "## Load the registration model"
   ]
  },
  {
   "cell_type": "code",
   "execution_count": 5,
   "metadata": {},
   "outputs": [
    {
     "name": "stderr",
     "output_type": "stream",
     "text": [
      "/opt/homebrew/Caskroom/miniconda/base/envs/voxelmorph/lib/python3.10/site-packages/torch/functional.py:504: UserWarning: torch.meshgrid: in an upcoming release, it will be required to pass the indexing argument. (Triggered internally at /Users/runner/work/pytorch/pytorch/pytorch/aten/src/ATen/native/TensorShape.cpp:3191.)\n",
      "  return _VF.meshgrid(tensors, **kwargs)  # type: ignore[attr-defined]\n"
     ]
    },
    {
     "data": {
      "text/plain": [
       "VxmDense(\n",
       "  (unet_model): Unet(\n",
       "    (encoder): ModuleList(\n",
       "      (0): ModuleList(\n",
       "        (0): ConvBlock(\n",
       "          (main): Conv2d(2, 16, kernel_size=(3, 3), stride=(1, 1), padding=(1, 1))\n",
       "          (activation): LeakyReLU(negative_slope=0.2)\n",
       "        )\n",
       "      )\n",
       "      (1): ModuleList(\n",
       "        (0): ConvBlock(\n",
       "          (main): Conv2d(16, 32, kernel_size=(3, 3), stride=(1, 1), padding=(1, 1))\n",
       "          (activation): LeakyReLU(negative_slope=0.2)\n",
       "        )\n",
       "      )\n",
       "      (2): ModuleList(\n",
       "        (0): ConvBlock(\n",
       "          (main): Conv2d(32, 32, kernel_size=(3, 3), stride=(1, 1), padding=(1, 1))\n",
       "          (activation): LeakyReLU(negative_slope=0.2)\n",
       "        )\n",
       "      )\n",
       "      (3): ModuleList(\n",
       "        (0): ConvBlock(\n",
       "          (main): Conv2d(32, 32, kernel_size=(3, 3), stride=(1, 1), padding=(1, 1))\n",
       "          (activation): LeakyReLU(negative_slope=0.2)\n",
       "        )\n",
       "      )\n",
       "    )\n",
       "    (decoder): ModuleList(\n",
       "      (0): ModuleList(\n",
       "        (0): ConvBlock(\n",
       "          (main): Conv2d(32, 32, kernel_size=(3, 3), stride=(1, 1), padding=(1, 1))\n",
       "          (activation): LeakyReLU(negative_slope=0.2)\n",
       "        )\n",
       "      )\n",
       "      (1): ModuleList(\n",
       "        (0): ConvBlock(\n",
       "          (main): Conv2d(64, 32, kernel_size=(3, 3), stride=(1, 1), padding=(1, 1))\n",
       "          (activation): LeakyReLU(negative_slope=0.2)\n",
       "        )\n",
       "      )\n",
       "      (2): ModuleList(\n",
       "        (0): ConvBlock(\n",
       "          (main): Conv2d(64, 32, kernel_size=(3, 3), stride=(1, 1), padding=(1, 1))\n",
       "          (activation): LeakyReLU(negative_slope=0.2)\n",
       "        )\n",
       "      )\n",
       "      (3): ModuleList(\n",
       "        (0): ConvBlock(\n",
       "          (main): Conv2d(64, 32, kernel_size=(3, 3), stride=(1, 1), padding=(1, 1))\n",
       "          (activation): LeakyReLU(negative_slope=0.2)\n",
       "        )\n",
       "      )\n",
       "    )\n",
       "    (remaining): ModuleList(\n",
       "      (0): ConvBlock(\n",
       "        (main): Conv2d(48, 32, kernel_size=(3, 3), stride=(1, 1), padding=(1, 1))\n",
       "        (activation): LeakyReLU(negative_slope=0.2)\n",
       "      )\n",
       "      (1): ConvBlock(\n",
       "        (main): Conv2d(32, 16, kernel_size=(3, 3), stride=(1, 1), padding=(1, 1))\n",
       "        (activation): LeakyReLU(negative_slope=0.2)\n",
       "      )\n",
       "      (2): ConvBlock(\n",
       "        (main): Conv2d(16, 16, kernel_size=(3, 3), stride=(1, 1), padding=(1, 1))\n",
       "        (activation): LeakyReLU(negative_slope=0.2)\n",
       "      )\n",
       "    )\n",
       "  )\n",
       "  (flow): Conv2d(16, 2, kernel_size=(3, 3), stride=(1, 1), padding=(1, 1))\n",
       "  (resize): ResizeTransform()\n",
       "  (fullsize): ResizeTransform()\n",
       "  (integrate): VecInt(\n",
       "    (transformer): SpatialTransformer()\n",
       "  )\n",
       "  (transformer): SpatialTransformer()\n",
       ")"
      ]
     },
     "execution_count": 5,
     "metadata": {},
     "output_type": "execute_result"
    }
   ],
   "source": [
    "device = 'cpu'\n",
    "model_path = '/Users/mona/Documents/data/DelftBlueDownloads/PostconT1w_ncc_0.1_l2_1000.pt'\n",
    "# load and set up model\n",
    "model = vxm.networks.VxmDense.load(model_path, device)\n",
    "model.to(device)\n",
    "model.eval()"
   ]
  },
  {
   "cell_type": "code",
   "execution_count": 6,
   "metadata": {},
   "outputs": [],
   "source": [
    "# fixed_array = match_histograms(fixed_array, reference, channel_axis=-1)\n",
    "# fixed_array = preprocess(fixed_array, new_shape, 0)\n",
    "fixed_array = vols_all[:, :, 0]\n",
    "input_fixed = torch.from_numpy(fixed_array[None, None, ...].astype(np.float32))\n",
    "\n",
    "# print(f\"Mona: vols shape {vols.shape} and input fixed {input_fixed.shape}\")\n",
    "\n",
    "output_moved = [input_fixed.squeeze()]\n",
    "output_warp = []\n",
    "output_orig = [input_fixed.squeeze()]\n",
    "\n",
    "input_fixed = input_fixed.to(device)\n",
    "for slice in range(1, vols_all.shape[-1]):\n",
    "    input_moving = torch.from_numpy(vols_all[None, None, :, :, slice].astype(np.float32))\n",
    "    # print(f\"The shape of moving is {input_moving.shape} and shape of fixed {input_fixed.shape}\")\n",
    "    moved, warp = model(input_moving, input_fixed, registration=True) # register all sequence to the first sequence\n",
    "\n",
    "    output_moved.append(moved.detach().cpu().numpy().squeeze())\n",
    "    output_warp.append(warp.detach().cpu().numpy().squeeze())\n",
    "    output_orig.append(input_moving.detach().cpu().numpy().squeeze())\n"
   ]
  },
  {
   "cell_type": "code",
   "execution_count": 7,
   "metadata": {},
   "outputs": [],
   "source": [
    "moved = np.stack(output_moved)\n",
    "warp = np.stack(output_warp)\n",
    "orig = np.stack(output_orig)\n",
    "\n",
    "moved = exposure.equalize_hist(moved)\n",
    "warp = exposure.equalize_hist(warp)\n",
    "orig = exposure.equalize_hist(orig)\n",
    "\n",
    "moved_path = 'results/Lisbon_ncc_0.01/'\n",
    "warp_path = 'results/Lisbon_ncc_0.01/'\n",
    "os.makedirs(moved_path, exist_ok=True)\n",
    "os.makedirs(warp_path, exist_ok=True)\n",
    "fixed_affine = None\n",
    "\n",
    "vxm.py.utils.save_volfile(moved, os.path.join(moved_path, \"test_registered.nii\"), fixed_affine)\n",
    "\n",
    "warp = warp.transpose(2, 3, 0, 1)\n",
    "vxm.py.utils.save_volfile(warp, os.path.join(warp_path, \"test_warp.nii\"), fixed_affine)\n",
    "\n",
    "orig = orig.transpose(1, 2, 0)\n",
    "moved = moved.transpose(1, 2, 0)\n",
    "warp = warp.transpose(3, 2, 1, 0)\n",
    "warp = np.flip(warp, axis=2)\n",
    "# print(f\"Shape of orig {orig.shape} and moved {moved.shape} and warp {warp.shape}\")\n",
    "moved_gif_path = save_gif(moved, \"test_intrasubject\", moved_path, \"registered\")\n",
    "orig_gif_path = save_gif(orig, \"test_intrasubject\", moved_path, \"original\")\n",
    "# quiver_path = save_quiver(warp, 'test', warp_path)\n",
    "morph_field_path = save_morphField(warp, 'test_intrasubject', moved_path)"
   ]
  }
 ],
 "metadata": {
  "kernelspec": {
   "display_name": "Python 3.10.6 ('voxelmorph')",
   "language": "python",
   "name": "python3"
  },
  "language_info": {
   "codemirror_mode": {
    "name": "ipython",
    "version": 3
   },
   "file_extension": ".py",
   "mimetype": "text/x-python",
   "name": "python",
   "nbconvert_exporter": "python",
   "pygments_lexer": "ipython3",
   "version": "3.10.6"
  },
  "vscode": {
   "interpreter": {
    "hash": "0a1cd2b23f8ff06b7afb03302d9352d9e4f8beda4281272f70ede951c0d66b58"
   }
  }
 },
 "nbformat": 4,
 "nbformat_minor": 4
}
