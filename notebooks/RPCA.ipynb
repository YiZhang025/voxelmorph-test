{
 "cells": [
  {
   "cell_type": "code",
   "execution_count": 1,
   "metadata": {},
   "outputs": [],
   "source": [
    "import numpy as np\n",
    "import glob\n",
    "import os\n",
    "import matplotlib.pyplot as plt\n",
    "%matplotlib widget"
   ]
  },
  {
   "cell_type": "code",
   "execution_count": 4,
   "metadata": {},
   "outputs": [],
   "source": [
    "test_folder = '../data/fbMOLLI_post_dataset/train'\n",
    "test_files = glob.glob(os.path.join(test_folder, '*.npy'))\n",
    "reshape_vols_all = []\n",
    "vols_all = []\n",
    "for file in test_files:\n",
    "    vols = np.load(file)\n",
    "    vols = vols.transpose(1, 2, 0)\n",
    "    vols_all.append(vols)\n",
    "\n",
    "vols = vols_all[0]"
   ]
  },
  {
   "cell_type": "code",
   "execution_count": 5,
   "metadata": {},
   "outputs": [
    {
     "name": "stdout",
     "output_type": "stream",
     "text": [
      "(50176, 20)\n"
     ]
    }
   ],
   "source": [
    "from hyperspy.learn.rpca import rpca_godec, orpca\n",
    "x, y, z = vols.shape\n",
    "print(f\"Shape of array is {array.shape} and x is {x} and y is {y} and z is {z}\")\n",
    "M = vols.reshape(x*y, z)\n",
    "print(M.shape)\n",
    "low, sparse, U, S, V = rpca_godec(M, rank=2)\n",
    "low_matrix = low.reshape((x, y, z))\n",
    "sparse_matrix = sparse.reshape((x, y, z))\n",
    "\n",
    "from scripts.utils import *\n",
    "path = 'test_rpca'\n",
    "os.makedirs(path, exist_ok=True)\n",
    "\n",
    "save_gif(low_matrix, \"raw_test_rpca\", path, \"lowrank\")\n",
    "save_gif(vols, \"raw_test_rpca\", path, \"original\")\n",
    "save_gif(sparse_matrix, \"raw_test_rpca\", path, \"sparse\")\n",
    "\n",
    "sitk.WriteImage(sitk.GetImageFromArray(low_matrix.transpose(2, 0, 1)), os.path.join(path, \"lowrank.nii\"))\n",
    "sitk.WriteImage(sitk.GetImageFromArray(sparse_matrix.transpose(2, 0, 1)), os.path.join(path, \"sparse.nii\"))\n",
    "sitk.WriteImage(sitk.GetImageFromArray(vols.transpose(2, 0, 1)), os.path.join(path, \"original.nii\"))"
   ]
  }
 ],
 "metadata": {
  "kernelspec": {
   "display_name": "Python 3",
   "language": "python",
   "name": "python3"
  },
  "language_info": {
   "codemirror_mode": {
    "name": "ipython",
    "version": 3
   },
   "file_extension": ".py",
   "mimetype": "text/x-python",
   "name": "python",
   "nbconvert_exporter": "python",
   "pygments_lexer": "ipython3",
   "version": "3.9.12"
  },
  "vscode": {
   "interpreter": {
    "hash": "0a1cd2b23f8ff06b7afb03302d9352d9e4f8beda4281272f70ede951c0d66b58"
   }
  }
 },
 "nbformat": 4,
 "nbformat_minor": 4
}
