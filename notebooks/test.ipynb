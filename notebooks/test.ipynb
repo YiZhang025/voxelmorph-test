{
 "cells": [
  {
   "cell_type": "code",
   "execution_count": 1,
   "metadata": {},
   "outputs": [
    {
     "name": "stderr",
     "output_type": "stream",
     "text": [
      "<frozen importlib._bootstrap>:219: RuntimeWarning: scipy._lib.messagestream.MessageStream size changed, may indicate binary incompatibility. Expected 56 from C header, got 64 from PyObject\n"
     ]
    }
   ],
   "source": [
    "import os\n",
    "import glob\n",
    "import numpy as np\n",
    "import SimpleITK as sitk\n",
    "import seaborn as sns\n",
    "import matplotlib.pyplot as plt\n",
    "from sewar.full_ref import mse, rmse, psnr, uqi, ssim, ergas, scc, rase, sam, msssim, vifp"
   ]
  },
  {
   "cell_type": "code",
   "execution_count": 2,
   "metadata": {},
   "outputs": [],
   "source": [
    "reg_path = '/Users/mona/GitClone/voxelmorph-test/data/data_moved'\n",
    "orig_path = '/Users/mona/GitClone/voxelmorph-test/data/data_test'\n",
    "output_img = '/Users/mona/GitClone/voxelmorph-test/data/output_img'\n",
    "\n",
    "orig = sorted(glob.glob(f\"{orig_path}/*.npy\"))\n",
    "registed = sorted(glob.glob(f\"{reg_path}/*.nii\"))"
   ]
  },
  {
   "cell_type": "code",
   "execution_count": null,
   "metadata": {},
   "outputs": [],
   "source": [
    "def pca(data):\n",
    "    # calculate the eigenvalues of data(covariance matrix)\n",
    "    array = np.transpose(np.load(orig[0]), (2,1,0))\n",
    "    x, y, z = array.shape\n",
    "    M = array.reshape(x*y, z)\n",
    "    Sigma = np.diag(np.std(M, axis=0))\n",
    "    M_avg = np.tile(np.average(M, axis=0), (x*y, 1))\n",
    "    K = np.dot(np.dot(np.dot(Sigma.T, (M - M_avg).T), (M - M_avg)), Sigma.T) / (x*y - 1)\n",
    "    eigenvalues = np.linalg.eigvals(K)\n",
    "    return eigenvalues"
   ]
  },
  {
   "cell_type": "code",
   "execution_count": 3,
   "metadata": {},
   "outputs": [
    {
     "name": "stdout",
     "output_type": "stream",
     "text": [
      "File 0003_rawimages_slice_0.nii, mse of original image is 0.006164561102406497, mse of registered image is 0.002939408198205723\n",
      "File 0004_rawimages_slice_2.nii, mse of original image is 0.008026560705277264, mse of registered image is 0.0034939513811973774\n",
      "File 0009_rawimages_slice_1.nii, mse of original image is 0.017407262249532984, mse of registered image is 0.006282985956542479\n",
      "File 0010_rawimages_slice_2.nii, mse of original image is 0.010713342084593873, mse of registered image is 0.004520152397549455\n",
      "File 0015_rawimages_slice_2.nii, mse of original image is 0.00483511294099898, mse of registered image is 0.0020940793671900926\n",
      "File 0029_rawimages_slice_0.nii, mse of original image is 0.03256052963813195, mse of registered image is 0.009602719299245076\n",
      "File 0030_rawimages_slice_2.nii, mse of original image is 0.03381547427112286, mse of registered image is 0.01142995365420301\n",
      "File 0031_rawimages_slice_1.nii, mse of original image is 0.03037667223357461, mse of registered image is 0.014844778435136124\n",
      "File 0032_rawimages_slice_2.nii, mse of original image is 0.0383938738232956, mse of registered image is 0.015576274239083743\n",
      "File 0033_rawimages_slice_2.nii, mse of original image is 0.04051237923190344, mse of registered image is 0.013882471031680041\n",
      "File 0035_rawimages_slice_0.nii, mse of original image is 0.023983692610061176, mse of registered image is 0.011933293966175072\n"
     ]
    }
   ],
   "source": [
    "tests = []\n",
    "org_mse = []\n",
    "rig_mse = []\n",
    "for i in range(len(registed)):\n",
    "    rig = sitk.GetArrayFromImage(sitk.ReadImage(registed[i]))\n",
    "    org = np.transpose(np.load(orig[i]), (2,1,0))\n",
    "    # print(f\"original shape {org.shape} and rigestered shape {rig.shape}\")\n",
    "    loss_rig, loss_org = 0, 0\n",
    "    name = (registed[i]).split(\"/\")[-1]\n",
    "    for j in range(1, rig.shape[-1]):\n",
    "        loss_rig += mse(rig[:,:,j-1], rig[:,:,j])\n",
    "        loss_org += mse(org[:,:,j-1], org[:,:,j])\n",
    "    print(f\"File {name}, mse of original image is {loss_org}, mse of registered image is {loss_rig}\")\n",
    "    org_mse.append(loss_org)\n",
    "    rig_mse.append(loss_rig)\n",
    "    tests.append(name)\n",
    "\n",
    "    eig_org = pca(org)\n",
    "    eig_rig = pca(rig)\n",
    "\n",
    "    f, (ax1, ax2) = plt.subplots(2, 1, figsize=(12, 8), sharex=True)\n",
    "    sns.barplot(x=np.arange(len(eig_org)), y=eig_org, palette=\"rocket\", ax=ax1)\n",
    "    sns.barplot(x=np.arange(len(eig_rig)), y=eig_rig, palette=\"rocket\", ax=ax2)\n",
    "    ax1.set_title(f\"Eigenvalues of original image {name}\")\n",
    "    plt.savefig(os.path.join(output_img, f\"{name[:-4]}_pca_barplot.png\"))\n"
   ]
  },
  {
   "cell_type": "code",
   "execution_count": 11,
   "metadata": {},
   "outputs": [],
   "source": [
    "import pandas as pd\n",
    "df = pd.DataFrame({'Cases': tests, 'raw MSE': org_mse, 'registered MSE': rig_mse})\n",
    "# df = pd.DataFrame()"
   ]
  },
  {
   "cell_type": "code",
   "execution_count": 12,
   "metadata": {},
   "outputs": [
    {
     "data": {
      "text/html": [
       "<div>\n",
       "<style scoped>\n",
       "    .dataframe tbody tr th:only-of-type {\n",
       "        vertical-align: middle;\n",
       "    }\n",
       "\n",
       "    .dataframe tbody tr th {\n",
       "        vertical-align: top;\n",
       "    }\n",
       "\n",
       "    .dataframe thead th {\n",
       "        text-align: right;\n",
       "    }\n",
       "</style>\n",
       "<table border=\"1\" class=\"dataframe\">\n",
       "  <thead>\n",
       "    <tr style=\"text-align: right;\">\n",
       "      <th></th>\n",
       "      <th>Cases</th>\n",
       "      <th>raw MSE</th>\n",
       "      <th>registered MSE</th>\n",
       "      <th>MSE changes percentage</th>\n",
       "    </tr>\n",
       "  </thead>\n",
       "  <tbody>\n",
       "    <tr>\n",
       "      <th>0</th>\n",
       "      <td>0003_rawimages_slice_0.nii</td>\n",
       "      <td>0.006165</td>\n",
       "      <td>0.002939</td>\n",
       "      <td>-52.317640</td>\n",
       "    </tr>\n",
       "    <tr>\n",
       "      <th>1</th>\n",
       "      <td>0004_rawimages_slice_2.nii</td>\n",
       "      <td>0.008027</td>\n",
       "      <td>0.003494</td>\n",
       "      <td>-56.470131</td>\n",
       "    </tr>\n",
       "    <tr>\n",
       "      <th>2</th>\n",
       "      <td>0009_rawimages_slice_1.nii</td>\n",
       "      <td>0.017407</td>\n",
       "      <td>0.006283</td>\n",
       "      <td>-63.905950</td>\n",
       "    </tr>\n",
       "    <tr>\n",
       "      <th>3</th>\n",
       "      <td>0010_rawimages_slice_2.nii</td>\n",
       "      <td>0.010713</td>\n",
       "      <td>0.004520</td>\n",
       "      <td>-57.808195</td>\n",
       "    </tr>\n",
       "    <tr>\n",
       "      <th>4</th>\n",
       "      <td>0015_rawimages_slice_2.nii</td>\n",
       "      <td>0.004835</td>\n",
       "      <td>0.002094</td>\n",
       "      <td>-56.690166</td>\n",
       "    </tr>\n",
       "    <tr>\n",
       "      <th>5</th>\n",
       "      <td>0029_rawimages_slice_0.nii</td>\n",
       "      <td>0.032561</td>\n",
       "      <td>0.009603</td>\n",
       "      <td>-70.508099</td>\n",
       "    </tr>\n",
       "    <tr>\n",
       "      <th>6</th>\n",
       "      <td>0030_rawimages_slice_2.nii</td>\n",
       "      <td>0.033815</td>\n",
       "      <td>0.011430</td>\n",
       "      <td>-66.199044</td>\n",
       "    </tr>\n",
       "    <tr>\n",
       "      <th>7</th>\n",
       "      <td>0031_rawimages_slice_1.nii</td>\n",
       "      <td>0.030377</td>\n",
       "      <td>0.014845</td>\n",
       "      <td>-51.130992</td>\n",
       "    </tr>\n",
       "    <tr>\n",
       "      <th>8</th>\n",
       "      <td>0032_rawimages_slice_2.nii</td>\n",
       "      <td>0.038394</td>\n",
       "      <td>0.015576</td>\n",
       "      <td>-59.430314</td>\n",
       "    </tr>\n",
       "    <tr>\n",
       "      <th>9</th>\n",
       "      <td>0033_rawimages_slice_2.nii</td>\n",
       "      <td>0.040512</td>\n",
       "      <td>0.013882</td>\n",
       "      <td>-65.732768</td>\n",
       "    </tr>\n",
       "    <tr>\n",
       "      <th>10</th>\n",
       "      <td>0035_rawimages_slice_0.nii</td>\n",
       "      <td>0.023984</td>\n",
       "      <td>0.011933</td>\n",
       "      <td>-50.244134</td>\n",
       "    </tr>\n",
       "  </tbody>\n",
       "</table>\n",
       "</div>"
      ],
      "text/plain": [
       "                         Cases   raw MSE  registered MSE  \\\n",
       "0   0003_rawimages_slice_0.nii  0.006165        0.002939   \n",
       "1   0004_rawimages_slice_2.nii  0.008027        0.003494   \n",
       "2   0009_rawimages_slice_1.nii  0.017407        0.006283   \n",
       "3   0010_rawimages_slice_2.nii  0.010713        0.004520   \n",
       "4   0015_rawimages_slice_2.nii  0.004835        0.002094   \n",
       "5   0029_rawimages_slice_0.nii  0.032561        0.009603   \n",
       "6   0030_rawimages_slice_2.nii  0.033815        0.011430   \n",
       "7   0031_rawimages_slice_1.nii  0.030377        0.014845   \n",
       "8   0032_rawimages_slice_2.nii  0.038394        0.015576   \n",
       "9   0033_rawimages_slice_2.nii  0.040512        0.013882   \n",
       "10  0035_rawimages_slice_0.nii  0.023984        0.011933   \n",
       "\n",
       "    MSE changes percentage  \n",
       "0               -52.317640  \n",
       "1               -56.470131  \n",
       "2               -63.905950  \n",
       "3               -57.808195  \n",
       "4               -56.690166  \n",
       "5               -70.508099  \n",
       "6               -66.199044  \n",
       "7               -51.130992  \n",
       "8               -59.430314  \n",
       "9               -65.732768  \n",
       "10              -50.244134  "
      ]
     },
     "execution_count": 12,
     "metadata": {},
     "output_type": "execute_result"
    }
   ],
   "source": [
    "def percentage_change(col1,col2):\n",
    "    return ((col2 - col1) / col1) * 100\n",
    "\n",
    "df['MSE changes percentage'] = percentage_change(df['raw MSE'], df['registered MSE'])\n",
    "df"
   ]
  }
 ],
 "metadata": {
  "kernelspec": {
   "display_name": "Python 3",
   "language": "python",
   "name": "python3"
  },
  "language_info": {
   "codemirror_mode": {
    "name": "ipython",
    "version": 3
   },
   "file_extension": ".py",
   "mimetype": "text/x-python",
   "name": "python",
   "nbconvert_exporter": "python",
   "pygments_lexer": "ipython3",
   "version": "3.9.12"
  },
  "vscode": {
   "interpreter": {
    "hash": "9f59471d30c264c4ff94399d94971c35a4035f00e321f77809be2af18d74bcdd"
   }
  }
 },
 "nbformat": 4,
 "nbformat_minor": 4
}
