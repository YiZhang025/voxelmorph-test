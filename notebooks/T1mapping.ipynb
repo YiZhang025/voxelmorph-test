{
 "cells": [
  {
   "cell_type": "markdown",
   "id": "e6a7728a-32c5-4788-9e01-1817f64f91c5",
   "metadata": {},
   "source": [
    "# T1mapping"
   ]
  },
  {
   "cell_type": "markdown",
   "id": "590a5b05-f67f-4fc8-9103-647625ac88c4",
   "metadata": {},
   "source": [
    "## Convert the nifti file into mat file"
   ]
  },
  {
   "cell_type": "code",
   "execution_count": 9,
   "id": "3aa0e10a-7ea6-4ce8-ab03-9ca8e8f56fa3",
   "metadata": {},
   "outputs": [],
   "source": [
    "import os\n",
    "import glob\n",
    "from pathlib import Path\n",
    "from tqdm import tqdm\n",
    "import argparse\n",
    "import scipy.io\n",
    "import numpy as np\n",
    "import SimpleITK as sitk"
   ]
  },
  {
   "cell_type": "code",
   "execution_count": 4,
   "id": "5e11326c-992a-4c78-83bc-932c2e31ee26",
   "metadata": {},
   "outputs": [],
   "source": [
    "def nii2mat(nii_path, mat_path):\n",
    "    img = sitk.ReadImage(nii_path)\n",
    "    img_array = sitk.GetArrayFromImage(img)\n",
    "    scipy.io.savemat(mat_path, {'img': img_array})"
   ]
  },
  {
   "cell_type": "code",
   "execution_count": 12,
   "id": "5af9f86d-25b4-4bed-b876-6081af7cc7de",
   "metadata": {},
   "outputs": [
    {
     "name": "stderr",
     "output_type": "stream",
     "text": [
      "100%|█████████████████████████████████████████████████████████████████████████████████████████████████████████████████████████████████████████████████████████████████████████| 12/12 [00:00<00:00, 60.27it/s]"
     ]
    },
    {
     "name": "stdout",
     "output_type": "stream",
     "text": [
      "The file name is 6263556_20131023_fbMOLLI_1.mat\n",
      "The file name is 0387056_20140416_fbMOLLI_3.mat\n",
      "The file name is 3386874_20140528_fbMOLLI_3.mat\n",
      "The file name is 7762959_20140319_fbMOLLI_1.mat\n",
      "The file name is 7762959_20140319_fbMOLLI_2.mat\n",
      "The file name is 8559809_20140402_fbMOLLI_3.mat\n",
      "The file name is 4790541_20131002_fbMOLLI_1.mat\n",
      "The file name is 3135857_20140528_fbMOLLI_2.mat\n",
      "The file name is 9034739_20140528_fbMOLLI_2.mat\n",
      "The file name is 8515597_20140611_fbMOLLI_2.mat\n",
      "The file name is 4930261_20140514_fbMOLLI_2.mat\n",
      "The file name is 8286778_20131113_fbMOLLI_2.mat\n"
     ]
    },
    {
     "name": "stderr",
     "output_type": "stream",
     "text": [
      "\n"
     ]
    }
   ],
   "source": [
    "folder = '../results/fbMOLLI_post/group/jointcorrelation/l2/image_loss_weight1/weight1/bspline/cps4_svfsteps7_svfscale1/e100'\n",
    "output_folder = os.path.join(folder, 'moved_mat')\n",
    "os.makedirs(output_folder, exist_ok=True)\n",
    "registed_subjects = glob.glob(os.path.join(folder, 'moved/*.nii'))\n",
    "for file in tqdm(registed_subjects):\n",
    "    name = Path(file).stem + '.mat'\n",
    "    print(f\"The file name is {name}\")\n",
    "    nii2mat(file, os.path.join(output_folder, name))"
   ]
  },
  {
   "cell_type": "code",
   "execution_count": null,
   "id": "e4ce97a7-3df9-4748-aa96-bb7ef2916254",
   "metadata": {},
   "outputs": [],
   "source": []
  }
 ],
 "metadata": {
  "kernelspec": {
   "display_name": "Python [conda env:voxelmorph]",
   "language": "python",
   "name": "conda-env-voxelmorph-py"
  },
  "language_info": {
   "codemirror_mode": {
    "name": "ipython",
    "version": 3
   },
   "file_extension": ".py",
   "mimetype": "text/x-python",
   "name": "python",
   "nbconvert_exporter": "python",
   "pygments_lexer": "ipython3",
   "version": "3.10.8"
  }
 },
 "nbformat": 4,
 "nbformat_minor": 5
}
