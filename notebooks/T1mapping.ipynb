{
 "cells": [
  {
   "cell_type": "markdown",
   "id": "e6a7728a-32c5-4788-9e01-1817f64f91c5",
   "metadata": {},
   "source": [
    "# T1mapping"
   ]
  },
  {
   "cell_type": "markdown",
   "id": "590a5b05-f67f-4fc8-9103-647625ac88c4",
   "metadata": {},
   "source": [
    "## Convert the nifti file into mat file"
   ]
  },
  {
   "cell_type": "code",
   "execution_count": 9,
   "id": "3aa0e10a-7ea6-4ce8-ab03-9ca8e8f56fa3",
   "metadata": {},
   "outputs": [],
   "source": [
    "import os\n",
    "import glob\n",
    "from pathlib import Path\n",
    "from tqdm import tqdm\n",
    "import argparse\n",
    "import scipy.io\n",
    "import numpy as np\n",
    "import SimpleITK as sitk"
   ]
  },
  {
   "cell_type": "code",
   "execution_count": 4,
   "id": "5e11326c-992a-4c78-83bc-932c2e31ee26",
   "metadata": {},
   "outputs": [],
   "source": [
    "def nii2mat(nii_path, mat_path):\n",
    "    img = sitk.ReadImage(nii_path)\n",
    "    img_array = sitk.GetArrayFromImage(img)\n",
    "    scipy.io.savemat(mat_path, {'img': img_array})"
   ]
  },
  {
   "cell_type": "code",
   "execution_count": null,
   "id": "423a9f20-5fc6-4f3d-a5d2-fbd7e2c6edba",
   "metadata": {},
   "outputs": [],
   "source": [
    "def resize(img, new_size, interpolator):\n",
    "    # img = sitk.ReadImage(img)\n",
    "    dimension = img.GetDimension()\n",
    "\n",
    "    # Physical image size corresponds to the largest physical size in the training set, or any other arbitrary size.\n",
    "    reference_physical_size = np.zeros(dimension)\n",
    "\n",
    "    reference_physical_size[:] = [(sz - 1) * spc if sz * spc > mx else mx for sz, spc, mx in\n",
    "                                  zip(img.GetSize(), img.GetSpacing(), reference_physical_size)]\n",
    "\n",
    "    # Create the reference image with a zero origin, identity direction cosine matrix and dimension\n",
    "    reference_origin = np.zeros(dimension)\n",
    "    reference_direction = np.identity(dimension).flatten()\n",
    "    reference_size = new_size\n",
    "    reference_spacing = [phys_sz / (sz - 1) for sz, phys_sz in zip(reference_size, reference_physical_size)]\n",
    "\n",
    "    reference_image = sitk.Image(reference_size, img.GetPixelIDValue())\n",
    "    reference_image.SetOrigin(reference_origin)\n",
    "    reference_image.SetSpacing(reference_spacing)\n",
    "    reference_image.SetDirection(reference_direction)\n",
    "\n",
    "    # Always use the TransformContinuousIndexToPhysicalPoint to compute an indexed point's physical coordinates as\n",
    "    # this takes into account size, spacing and direction cosines. For the vast majority of images the direction\n",
    "    # cosines are the identity matrix, but when this isn't the case simply multiplying the central index by the\n",
    "    # spacing will not yield the correct coordinates resulting in a long debugging session.\n",
    "    reference_center = np.array(\n",
    "        reference_image.TransformContinuousIndexToPhysicalPoint(np.array(reference_image.GetSize()) / 2.0))\n",
    "\n",
    "    # Transform which maps from the reference_image to the current img with the translation mapping the image\n",
    "    # origins to each other.\n",
    "    transform = sitk.AffineTransform(dimension)\n",
    "    transform.SetMatrix(img.GetDirection())\n",
    "    transform.SetTranslation(np.array(img.GetOrigin()) - reference_origin)\n",
    "    # Modify the transformation to align the centers of the original and reference image instead of their origins.\n",
    "    centering_transform = sitk.TranslationTransform(dimension)\n",
    "    img_center = np.array(img.TransformContinuousIndexToPhysicalPoint(np.array(img.GetSize()) / 2.0))\n",
    "    centering_transform.SetOffset(np.array(transform.GetInverse().TransformPoint(img_center) - reference_center))\n",
    "\n",
    "    # centered_transform = sitk.Transform(transform)\n",
    "    # centered_transform.AddTransform(centering_transform)\n",
    "\n",
    "    centered_transform = sitk.CompositeTransform([transform, centering_transform])\n",
    "\n",
    "    # Using the linear interpolator as these are intensity images, if there is a need to resample a ground truth\n",
    "    # segmentation then the segmentation image should be resampled using the NearestNeighbor interpolator so that\n",
    "    # no new labels are introduced.\n",
    "\n",
    "    return sitk.Resample(img, reference_image, centered_transform, interpolator, 0.0)"
   ]
  },
  {
   "cell_type": "code",
   "execution_count": 13,
   "id": "5af9f86d-25b4-4bed-b876-6081af7cc7de",
   "metadata": {},
   "outputs": [
    {
     "name": "stderr",
     "output_type": "stream",
     "text": [
      "  8%|██████████████▏                                                                                                                                                           | 1/12 [00:00<00:01,  9.35it/s]"
     ]
    },
    {
     "name": "stdout",
     "output_type": "stream",
     "text": [
      "The file name is 6263556_20131023_fbMOLLI_1\n",
      "(240, 240, 20)\n",
      "The file name is 0387056_20140416_fbMOLLI_3\n",
      "(240, 240, 20)\n",
      "The file name is 3386874_20140528_fbMOLLI_3\n",
      "(240, 240, 20)\n",
      "The file name is 7762959_20140319_fbMOLLI_1\n",
      "(256, 256, 20)\n",
      "The file name is 7762959_20140319_fbMOLLI_2\n"
     ]
    },
    {
     "name": "stderr",
     "output_type": "stream",
     "text": [
      " 75%|███████████████████████████████████████████████████████████████████████████████████████████████████████████████████████████████▌                                          | 9/12 [00:00<00:00, 28.08it/s]"
     ]
    },
    {
     "name": "stdout",
     "output_type": "stream",
     "text": [
      "(256, 256, 20)\n",
      "The file name is 8559809_20140402_fbMOLLI_3\n",
      "(224, 224, 20)\n",
      "The file name is 4790541_20131002_fbMOLLI_1\n",
      "(320, 320, 20)\n",
      "The file name is 3135857_20140528_fbMOLLI_2\n",
      "(256, 256, 20)\n",
      "The file name is 9034739_20140528_fbMOLLI_2\n",
      "(256, 256, 20)\n",
      "The file name is 8515597_20140611_fbMOLLI_2\n",
      "(240, 240, 20)\n",
      "The file name is 4930261_20140514_fbMOLLI_2\n",
      "(320, 320, 20)\n",
      "The file name is 8286778_20131113_fbMOLLI_2\n"
     ]
    },
    {
     "name": "stderr",
     "output_type": "stream",
     "text": [
      "100%|█████████████████████████████████████████████████████████████████████████████████████████████████████████████████████████████████████████████████████████████████████████| 12/12 [00:00<00:00, 25.98it/s]"
     ]
    },
    {
     "name": "stdout",
     "output_type": "stream",
     "text": [
      "(288, 288, 20)\n"
     ]
    },
    {
     "name": "stderr",
     "output_type": "stream",
     "text": [
      "\n"
     ]
    }
   ],
   "source": [
    "folder = '../results/fbMOLLI_post/group/jointcorrelation/l2/image_loss_weight1/weight1/bspline/cps4_svfsteps7_svfscale1/e100'\n",
    "\n",
    "original_folder = '/Users/mona/Documents/data/registration/voxelmorph/fbMOLLI_original_post'\n",
    "\n",
    "output_folder = os.path.join(folder, 'moved_mat')\n",
    "os.makedirs(output_folder, exist_ok=True)\n",
    "registed_subjects = glob.glob(os.path.join(folder, 'moved/*.nii'))\n",
    "for file in tqdm(registed_subjects):\n",
    "    name = Path(file).stem\n",
    "    print(f\"The file name is {name}\")\n",
    "    original_name = os.path.join(original_folder, f\"{name}.nii.gz\")\n",
    "    img = sitk.ReadImage(original_name)\n",
    "    orig_shape = img.GetSize()\n",
    "    print(orig_shape)\n",
    "    \n",
    "    nii2mat(file, os.path.join(output_folder, f\"{name}.mat\"))"
   ]
  },
  {
   "cell_type": "code",
   "execution_count": 14,
   "id": "e4ce97a7-3df9-4748-aa96-bb7ef2916254",
   "metadata": {},
   "outputs": [
    {
     "data": {
      "text/plain": [
       "(288, 288)"
      ]
     },
     "execution_count": 14,
     "metadata": {},
     "output_type": "execute_result"
    }
   ],
   "source": [
    "orig_shape[:-1]"
   ]
  }
 ],
 "metadata": {
  "kernelspec": {
   "display_name": "Python [conda env:voxelmorph]",
   "language": "python",
   "name": "conda-env-voxelmorph-py"
  },
  "language_info": {
   "codemirror_mode": {
    "name": "ipython",
    "version": 3
   },
   "file_extension": ".py",
   "mimetype": "text/x-python",
   "name": "python",
   "nbconvert_exporter": "python",
   "pygments_lexer": "ipython3",
   "version": "3.10.8"
  }
 },
 "nbformat": 4,
 "nbformat_minor": 5
}
