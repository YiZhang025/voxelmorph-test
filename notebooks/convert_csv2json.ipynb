{
 "cells": [
  {
   "cell_type": "code",
   "execution_count": 3,
   "metadata": {},
   "outputs": [],
   "source": [
    "import pandas as pd\n",
    "\n",
    "import numpy as np\n",
    "import json\n",
    "\n",
    "\n",
    "file = '../data/MOLLI_post_TI.csv'\n",
    "\n",
    "df = pd.read_csv(file)\n",
    "\n",
    "names = list(df['filename'])\n",
    "data = np.array(df.iloc[:, 1:])\n",
    "\n",
    "TI_dict = {}\n",
    "for name in names:\n",
    "    TI_dict[name] = list(data[names.index(name)].astype(float))\n",
    "\n",
    "with open('../data/MOLLI_post_TI.json', 'w') as fp:\n",
    "    json.dump(TI_dict, fp, indent=4)"
   ]
  }
 ],
 "metadata": {
  "kernelspec": {
   "display_name": "voxelmorph",
   "language": "python",
   "name": "python3"
  },
  "language_info": {
   "codemirror_mode": {
    "name": "ipython",
    "version": 3
   },
   "file_extension": ".py",
   "mimetype": "text/x-python",
   "name": "python",
   "nbconvert_exporter": "python",
   "pygments_lexer": "ipython3",
   "version": "3.10.8 | packaged by conda-forge | (main, Nov 22 2022, 08:25:13) [Clang 14.0.6 ]"
  },
  "orig_nbformat": 4,
  "vscode": {
   "interpreter": {
    "hash": "0a1cd2b23f8ff06b7afb03302d9352d9e4f8beda4281272f70ede951c0d66b58"
   }
  }
 },
 "nbformat": 4,
 "nbformat_minor": 2
}
